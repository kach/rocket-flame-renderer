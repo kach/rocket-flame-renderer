{
 "cells": [
  {
   "cell_type": "code",
   "execution_count": 1,
   "metadata": {},
   "outputs": [],
   "source": [
    "from matplotlib import pyplot as plt\n",
    "import numpy as np\n",
    "\n",
    "import sys\n",
    "np.set_printoptions(threshold=sys.maxsize)"
   ]
  },
  {
   "cell_type": "code",
   "execution_count": 96,
   "metadata": {},
   "outputs": [],
   "source": [
    "# hacky Perlin noise generator\n",
    "p, q = (4, 4)\n",
    "\n",
    "def uniform_dir_sample():\n",
    "    x = np.random.random(2) * 2 - np.array([1., 1.])\n",
    "    return x\n",
    "\n",
    "a = np.zeros((p + 1, q + 1, 2))\n",
    "\n",
    "def randomize_arrows(a):\n",
    "    for i in range(p + 1):\n",
    "        for j in range(q + 1):\n",
    "            a[i, j] = uniform_dir_sample()\n",
    "\n",
    "randomize_arrows(a)"
   ]
  },
  {
   "cell_type": "code",
   "execution_count": 97,
   "metadata": {},
   "outputs": [],
   "source": [
    "def smooth(w):\n",
    "    return 3 * w**2 - 2 * w**3\n",
    "\n",
    "def lerp(a, b, w):\n",
    "    return a + (b - a) * smooth(w)\n",
    "\n",
    "def dot_grad(ix, iy, x, y):\n",
    "    dx = x - ix\n",
    "    dy = y - iy\n",
    "    return np.dot(a[ix, iy], np.array([dx, dy]))\n",
    "\n",
    "def noise_at(x, y): # x, y in (-1, 1) space\n",
    "    fx = (x + 1) / 2. * p\n",
    "    fy = (y + 1) / 2. * q\n",
    "    \n",
    "    ix = int(fx)\n",
    "    iy = int(fy)\n",
    "    \n",
    "    sx = fx - ix\n",
    "    sy = fy - iy\n",
    "    \n",
    "    out = 0\n",
    "    a0 = dot_grad(ix + 0, iy + 0, fx, fy)\n",
    "    a1 = dot_grad(ix + 1, iy + 0, fx, fy)\n",
    "    L0 = lerp(a0, a1, sx)\n",
    "    b0 = dot_grad(ix + 0, iy + 1, fx, fy)\n",
    "    b1 = dot_grad(ix + 1, iy + 1, fx, fy)\n",
    "    L1 = lerp(b0, b1, sx)\n",
    "    return lerp(L0, L1, sy)"
   ]
  },
  {
   "cell_type": "code",
   "execution_count": 159,
   "metadata": {},
   "outputs": [],
   "source": [
    "u, v = (200, 200)\n",
    "def hill_grid():\n",
    "    grid = np.zeros((u, v))\n",
    "    for i in range(u):\n",
    "        for j in range(v):\n",
    "            if i == 0 or i == u - 1 or j == 0 or j == v - 1:\n",
    "                grid[i, j] = 0\n",
    "                continue\n",
    "            x, y = float(i) / u - 0.5, float(j) / v - 0.5\n",
    "            grid[i, j] = np.exp(-(x**2 + y**2) / (2 * 0.2 ** 2)) / (0.2 * np.sqrt(np.pi * 2)) * 1 + (noise_at(2 * x, 2 * y) + 0.1) * 0.6\n",
    "            if i < 20:\n",
    "                grid[i, j] *= i / 20.\n",
    "            elif j < 20:\n",
    "                grid[i, j] *= j / 20.\n",
    "            elif i > u - 20:\n",
    "                grid[i, j] *= (u - i) / 20.\n",
    "            elif j > v - 20:\n",
    "                grid[i, j] *= (v - j) / 20.\n",
    "    plt.gray()\n",
    "    plt.imshow(grid)\n",
    "    return grid"
   ]
  },
  {
   "cell_type": "code",
   "execution_count": 160,
   "metadata": {},
   "outputs": [],
   "source": [
    "def make_hill(i, f):\n",
    "    global a\n",
    "    randomize_arrows(a)\n",
    "    grid = hill_grid()\n",
    "    f.write('''\n",
    "    ObjectBegin \"hill%d\"\n",
    "      Shape \"heightfield\"\n",
    "        \"integer nu\" %d\n",
    "        \"integer nv\" %d\n",
    "        \"float Pz\" %s\n",
    "    ObjectEnd\n",
    "    ''' % (i, u, v, np.array2string(np.ndarray.flatten(grid))))"
   ]
  },
  {
   "cell_type": "code",
   "execution_count": 162,
   "metadata": {},
   "outputs": [
    {
     "data": {
      "image/png": "[encoded data removed]",
      "text/plain": [
       "<Figure size 432x288 with 1 Axes>"
      ]
     },
     "metadata": {
      "needs_background": "light"
     },
     "output_type": "display_data"
    }
   ],
   "source": [
    "with open('hill.pbrt', 'w') as f:\n",
    "    make_hill(1, f)\n",
    "    make_hill(2, f)\n",
    "    make_hill(3, f)"
   ]
  },
  {
   "cell_type": "code",
   "execution_count": null,
   "metadata": {},
   "outputs": [],
   "source": []
  }
 ],
 "metadata": {
  "kernelspec": {
   "display_name": "Python 3",
   "language": "python",
   "name": "python3"
  },
  "language_info": {
   "codemirror_mode": {
    "name": "ipython",
    "version": 3
   },
   "file_extension": ".py",
   "mimetype": "text/x-python",
   "name": "python",
   "nbconvert_exporter": "python",
   "pygments_lexer": "ipython3",
   "version": "3.7.2"
  }
 },
 "nbformat": 4,
 "nbformat_minor": 2
}
